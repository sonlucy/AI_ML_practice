{
  "nbformat": 4,
  "nbformat_minor": 0,
  "metadata": {
    "colab": {
      "provenance": []
    },
    "kernelspec": {
      "name": "python3",
      "display_name": "Python 3"
    },
    "language_info": {
      "name": "python"
    }
  },
  "cells": [
    {
      "cell_type": "code",
      "execution_count": null,
      "metadata": {
        "id": "bA9UNrTHWBXo"
      },
      "outputs": [],
      "source": [
        "import numpy as np\n",
        "import tensorflow as tf\n",
        "from tensorflow.keras.datasets import mnist\n",
        "from tensorflow.keras.datasets import fashion_mnist\n",
        "from tensorflow.keras.models import Sequential\n",
        "from tensorflow.keras.layers import Conv2D, MaxPooling2D, Flatten, Dense, Dropout\n",
        "from tensorflow.keras.optimizers import Adam\n",
        "\n",
        "(x_train, y_train), (x_test, y_test)=fashion_mnist.load_data()\n",
        "x_train=x_train.reshape(60000,28,28,1)   #1을 추가해서 28*28*1 해서 reshape많이해줌\n",
        "x_test=x_test.reshape(10000,28,28,1)\n",
        "x_train=x_train.astype(np.float32)/255.0\n",
        "x_test=x_test.astype(np.float32)/255.0\n",
        "y_train=tf.keras.utils.to_categorical(y_train,10)   #원핫인코딩\n",
        "y_test=tf.keras.utils.to_categorical(y_test,10)\n",
        "\n",
        "#작은필터를 여러개 쓰는게 더 좋다\n",
        "#필터의 개수를 계속 늘려가라\n",
        "#->vggnet 핵심 개념\n",
        "\n",
        "cnn=Sequential()\n",
        "cnn.add(Conv2D(32, (3,3), activation='relu', input_shape=(28,28,1)))\n",
        "cnn.add(Conv2D(64, (3,3), activation='relu'))\n",
        "cnn.add(MaxPooling2D(pool_size=(2,2)))\n",
        "cnn.add(Dropout(0.25))\n",
        "cnn.add(Flatten())\n",
        "cnn.add(Dense(128, activation='relu'))\n",
        "cnn.add(Dropout(0.5))\n",
        "cnn.add(Dense(10, activation='softmax'))\n",
        "\n"
      ]
    },
    {
      "cell_type": "code",
      "source": [
        "cnn.compile(loss='categorical_crossentropy', optimizer=Adam(), metrics=['accuracy'])"
      ],
      "metadata": {
        "id": "ZwYGIf3TfbDl"
      },
      "execution_count": null,
      "outputs": []
    },
    {
      "cell_type": "code",
      "source": [
        "hist=cnn.fit(x_train, y_train, batch_size=128, epochs=10, validation_data=(x_test, y_test), verbose=2)\n",
        "cnn.save('saved_cnn.h5')\n"
      ],
      "metadata": {
        "colab": {
          "base_uri": "https://localhost:8080/"
        },
        "id": "Sp2PMXgUawiX",
        "outputId": "35a2b2ec-5c0f-4b8a-b07c-c697673b35da"
      },
      "execution_count": null,
      "outputs": [
        {
          "output_type": "stream",
          "name": "stdout",
          "text": [
            "Epoch 1/10\n",
            "469/469 - 249s - loss: 0.5234 - accuracy: 0.8167 - val_loss: 0.3389 - val_accuracy: 0.8760 - 249s/epoch - 531ms/step\n",
            "Epoch 2/10\n",
            "469/469 - 205s - loss: 0.3440 - accuracy: 0.8761 - val_loss: 0.2864 - val_accuracy: 0.8948 - 205s/epoch - 436ms/step\n",
            "Epoch 3/10\n",
            "469/469 - 192s - loss: 0.2993 - accuracy: 0.8921 - val_loss: 0.2611 - val_accuracy: 0.9030 - 192s/epoch - 409ms/step\n",
            "Epoch 4/10\n",
            "469/469 - 232s - loss: 0.2694 - accuracy: 0.9020 - val_loss: 0.2577 - val_accuracy: 0.9056 - 232s/epoch - 495ms/step\n",
            "Epoch 5/10\n",
            "469/469 - 203s - loss: 0.2444 - accuracy: 0.9103 - val_loss: 0.2468 - val_accuracy: 0.9112 - 203s/epoch - 433ms/step\n",
            "Epoch 6/10\n",
            "469/469 - 183s - loss: 0.2265 - accuracy: 0.9163 - val_loss: 0.2321 - val_accuracy: 0.9150 - 183s/epoch - 391ms/step\n",
            "Epoch 7/10\n",
            "469/469 - 223s - loss: 0.2115 - accuracy: 0.9226 - val_loss: 0.2315 - val_accuracy: 0.9180 - 223s/epoch - 476ms/step\n",
            "Epoch 8/10\n",
            "469/469 - 212s - loss: 0.1977 - accuracy: 0.9266 - val_loss: 0.2192 - val_accuracy: 0.9212 - 212s/epoch - 452ms/step\n",
            "Epoch 9/10\n",
            "469/469 - 199s - loss: 0.1843 - accuracy: 0.9316 - val_loss: 0.2277 - val_accuracy: 0.9164 - 199s/epoch - 424ms/step\n",
            "Epoch 10/10\n",
            "469/469 - 206s - loss: 0.1710 - accuracy: 0.9358 - val_loss: 0.2130 - val_accuracy: 0.9231 - 206s/epoch - 440ms/step\n"
          ]
        }
      ]
    },
    {
      "cell_type": "code",
      "source": [
        "#저장된 모델 불러오기\n",
        "\n",
        "res_cnn=cnn.evaluate(x_test, y_test, verbose=0)\n",
        "print(\"1, cnn moel 정확률은\", res_cnn[1]*100)\n",
        "print(' res_cnn =', res_cnn, '\\n')\n",
        "\n",
        "saved_cnn= tf.keras.models.load_model('saved_cnn.h5')\n",
        "res_saved_cnn=saved_cnn.evaluate(x_test, y_test, verbose=0)\n",
        "print(\"2. saved model 정확률은\", res_saved_cnn[1]*100)\n",
        "print(' res_saved_cnn =', res_saved_cnn)"
      ],
      "metadata": {
        "colab": {
          "base_uri": "https://localhost:8080/"
        },
        "id": "VrTmTq_FaTwh",
        "outputId": "0c814b32-bf55-4688-eebb-fbe0a7eab6aa"
      },
      "execution_count": null,
      "outputs": [
        {
          "output_type": "stream",
          "name": "stdout",
          "text": [
            "1, cnn moel 정확률은 92.30999946594238\n",
            " res_cnn = [0.21299594640731812, 0.9230999946594238] \n",
            "\n",
            "2. saved model 정확률은 92.30999946594238\n",
            " res_saved_cnn = [0.21299594640731812, 0.9230999946594238]\n"
          ]
        }
      ]
    },
    {
      "cell_type": "code",
      "source": [
        "#Callback함수를 이용한 최고 성능의 모델 저장(val_loss)\n",
        "\n",
        "checkpoint_callback = tf.keras.callbacks.ModelCheckpoint(\n",
        "    'best_cnn.h5', save_best_only=True)\n",
        "\n",
        "hist=cnn.fit(x_train, y_train, batch_size=128, epochs=10, validation_data=(x_test, y_test),\n",
        "             callbacks=[checkpoint_callback], verbose=2)\n",
        "\n",
        "#성능이 좋은 n번째 epoch까지 저장함..\n"
      ],
      "metadata": {
        "colab": {
          "base_uri": "https://localhost:8080/"
        },
        "id": "KhbTyIy5beCd",
        "outputId": "01da65cc-6beb-4527-f9ae-2f88e63448bd"
      },
      "execution_count": null,
      "outputs": [
        {
          "output_type": "stream",
          "name": "stdout",
          "text": [
            "Epoch 1/10\n",
            "469/469 - 172s - loss: 0.1600 - accuracy: 0.9383 - val_loss: 0.2236 - val_accuracy: 0.9227 - 172s/epoch - 367ms/step\n",
            "Epoch 2/10\n",
            "469/469 - 175s - loss: 0.1495 - accuracy: 0.9437 - val_loss: 0.2166 - val_accuracy: 0.9248 - 175s/epoch - 374ms/step\n",
            "Epoch 3/10\n",
            "469/469 - 177s - loss: 0.1436 - accuracy: 0.9461 - val_loss: 0.2186 - val_accuracy: 0.9261 - 177s/epoch - 376ms/step\n",
            "Epoch 4/10\n",
            "469/469 - 171s - loss: 0.1336 - accuracy: 0.9498 - val_loss: 0.2266 - val_accuracy: 0.9239 - 171s/epoch - 365ms/step\n",
            "Epoch 5/10\n",
            "469/469 - 173s - loss: 0.1286 - accuracy: 0.9504 - val_loss: 0.2404 - val_accuracy: 0.9213 - 173s/epoch - 368ms/step\n",
            "Epoch 6/10\n",
            "469/469 - 177s - loss: 0.1246 - accuracy: 0.9517 - val_loss: 0.2234 - val_accuracy: 0.9271 - 177s/epoch - 378ms/step\n",
            "Epoch 7/10\n",
            "469/469 - 177s - loss: 0.1164 - accuracy: 0.9554 - val_loss: 0.2348 - val_accuracy: 0.9284 - 177s/epoch - 376ms/step\n",
            "Epoch 8/10\n",
            "469/469 - 171s - loss: 0.1111 - accuracy: 0.9575 - val_loss: 0.2284 - val_accuracy: 0.9251 - 171s/epoch - 366ms/step\n",
            "Epoch 9/10\n",
            "469/469 - 172s - loss: 0.1060 - accuracy: 0.9586 - val_loss: 0.2264 - val_accuracy: 0.9285 - 172s/epoch - 367ms/step\n",
            "Epoch 10/10\n",
            "469/469 - 176s - loss: 0.1011 - accuracy: 0.9607 - val_loss: 0.2415 - val_accuracy: 0.9317 - 176s/epoch - 375ms/step\n"
          ]
        }
      ]
    },
    {
      "cell_type": "code",
      "source": [
        "best_cnn= tf.keras.models.load_model('best_cnn.h5')\n",
        "res_best_cnn=best_cnn.evaluate(x_test, y_test,verbose=0)\n",
        "print(\"3. best model 정확률은\", res_best_cnn[1]*100)\n",
        "print('  res_best_cnn =', res_best_cnn)"
      ],
      "metadata": {
        "colab": {
          "base_uri": "https://localhost:8080/"
        },
        "id": "yfPRz0WDb-tw",
        "outputId": "7c9d0877-7a77-4f1c-9fbd-a1c1e6c7d6f7"
      },
      "execution_count": null,
      "outputs": [
        {
          "output_type": "stream",
          "name": "stdout",
          "text": [
            "3. best model 정확률은 92.47999787330627\n",
            "  res_best_cnn = [0.21658356487751007, 0.9247999787330627]\n"
          ]
        }
      ]
    },
    {
      "cell_type": "code",
      "source": [
        "#Callback함수를 이용한 최고 성능의 모델 저장(val_accuracy)\n",
        "\n",
        "checkpoint_callback = tf.keras.callbacks.ModelCheckpoint(\n",
        "    'best_acc_cnn.h5', monitor='val_accuracy', save_best_only=True)\n",
        "\n",
        "hist=cnn.fit(x_train, y_train, batch_size=128, epochs=10, validation_data=(x_test, y_test),\n",
        "             callbacks=[checkpoint_callback], verbose=2)\n"
      ],
      "metadata": {
        "colab": {
          "base_uri": "https://localhost:8080/"
        },
        "id": "yVBNi_6hczUs",
        "outputId": "761d1afb-d67b-45f3-dd4a-6dbe3cafbca7"
      },
      "execution_count": null,
      "outputs": [
        {
          "output_type": "stream",
          "name": "stdout",
          "text": [
            "Epoch 1/10\n",
            "469/469 - 176s - loss: 0.0966 - accuracy: 0.9624 - val_loss: 0.2421 - val_accuracy: 0.9306 - 176s/epoch - 375ms/step\n",
            "Epoch 2/10\n",
            "469/469 - 170s - loss: 0.0932 - accuracy: 0.9641 - val_loss: 0.2517 - val_accuracy: 0.9299 - 170s/epoch - 363ms/step\n",
            "Epoch 3/10\n",
            "469/469 - 174s - loss: 0.0907 - accuracy: 0.9649 - val_loss: 0.2396 - val_accuracy: 0.9311 - 174s/epoch - 371ms/step\n",
            "Epoch 4/10\n",
            "469/469 - 173s - loss: 0.0862 - accuracy: 0.9660 - val_loss: 0.2510 - val_accuracy: 0.9286 - 173s/epoch - 370ms/step\n",
            "Epoch 5/10\n",
            "469/469 - 170s - loss: 0.0843 - accuracy: 0.9672 - val_loss: 0.2541 - val_accuracy: 0.9295 - 170s/epoch - 362ms/step\n",
            "Epoch 6/10\n",
            "469/469 - 170s - loss: 0.0830 - accuracy: 0.9679 - val_loss: 0.2585 - val_accuracy: 0.9310 - 170s/epoch - 362ms/step\n",
            "Epoch 7/10\n",
            "469/469 - 170s - loss: 0.0797 - accuracy: 0.9686 - val_loss: 0.2621 - val_accuracy: 0.9326 - 170s/epoch - 362ms/step\n",
            "Epoch 8/10\n",
            "469/469 - 169s - loss: 0.0775 - accuracy: 0.9697 - val_loss: 0.2653 - val_accuracy: 0.9305 - 169s/epoch - 361ms/step\n",
            "Epoch 9/10\n",
            "469/469 - 173s - loss: 0.0775 - accuracy: 0.9701 - val_loss: 0.2642 - val_accuracy: 0.9320 - 173s/epoch - 368ms/step\n",
            "Epoch 10/10\n",
            "469/469 - 169s - loss: 0.0720 - accuracy: 0.9718 - val_loss: 0.2764 - val_accuracy: 0.9318 - 169s/epoch - 361ms/step\n"
          ]
        }
      ]
    },
    {
      "cell_type": "code",
      "source": [
        "best_cnn= tf.keras.models.load_model('best_acc_cnn.h5')\n",
        "res_best_acc_cnn=best_cnn.evaluate(x_test, y_test,verbose=0)\n",
        "print(\"3. best model 정확률은\", res_best_acc_cnn[1]*100)\n",
        "print('  res_best_acc_cnn =', res_best_acc_cnn)"
      ],
      "metadata": {
        "colab": {
          "base_uri": "https://localhost:8080/"
        },
        "id": "Uc79IDS0c-As",
        "outputId": "5ef75bb7-6ff3-41fd-b19c-a022faeadbf2"
      },
      "execution_count": null,
      "outputs": [
        {
          "output_type": "stream",
          "name": "stdout",
          "text": [
            "3. best model 정확률은 93.26000213623047\n",
            "  res_best_acc_cnn = [0.2620628774166107, 0.9326000213623047]\n"
          ]
        }
      ]
    },
    {
      "cell_type": "code",
      "source": [
        "#최고성능 모델과 Early stopping을 결합해서 모델을 저장 및 불러오기\n",
        "\n",
        "checkpoint_cb= tf.keras.callbacks.ModelCheckpoint(\n",
        "    'best_acc_cnn.h5', save_best_only=True)\n",
        "early_stopping_cb=tf.keras.callbacks.EarlyStopping(patience=3, restore_best_weights=True)\n",
        "\n",
        "hist=cnn.fit(x_train, y_train, batch_size=128, epochs=10, validation_data=(x_test, y_test),\n",
        "             callbacks= [checkpoint_cb, early_stopping_cb],verbose=0)\n",
        "\n",
        "best_ES_cnn= tf.keras.models.load_model(\"best_acc_cnn.h5\")\n",
        "res_best_ES_cnn=best_ES_cnn.evaluate(x_test, y_test, verbose=0)\n",
        "print('5. best + early stop 정확률은', res_best_ES_cnn[1]*100)\n",
        "print(' res_best_ES_cnn =', res_best_ES_cnn)\n"
      ],
      "metadata": {
        "id": "FItSnZ9EdUeI",
        "colab": {
          "base_uri": "https://localhost:8080/"
        },
        "outputId": "61cdcceb-8ac3-4c8b-ce1b-db3344dc01c9"
      },
      "execution_count": null,
      "outputs": [
        {
          "output_type": "stream",
          "name": "stdout",
          "text": [
            "5. best + early stop 정확률은 93.11000108718872\n",
            " res_best_ES_cnn = [0.27693453431129456, 0.9311000108718872]\n"
          ]
        }
      ]
    },
    {
      "cell_type": "markdown",
      "source": [
        "###전이학습 (14쪽 ~)"
      ],
      "metadata": {
        "id": "sRxkHbede06N"
      }
    },
    {
      "cell_type": "code",
      "source": [
        "import numpy as np\n",
        "import tensorflow as tf\n",
        "from tensorflow.keras.datasets import mnist\n",
        "from tensorflow.keras.datasets import fashion_mnist\n",
        "from tensorflow.keras.models import Sequential\n",
        "from tensorflow.keras.layers import Conv2D, MaxPooling2D, Flatten, Dense, Dropout\n",
        "from tensorflow.keras.optimizers import Adam\n",
        "\n",
        "(x_train, y_train), (x_test, y_test)=fashion_mnist.load_data()\n",
        "x_train=x_train.reshape(60000,28,28,1)   #1을 추가해서 28*28*1 해서 reshape많이해줌\n",
        "x_test=x_test.reshape(10000,28,28,1)\n",
        "x_train=x_train.astype(np.float32)/255.0\n",
        "x_test=x_test.astype(np.float32)/255.0\n",
        "y_train=tf.keras.utils.to_categorical(y_train,10)   #원핫인코딩\n",
        "y_test=tf.keras.utils.to_categorical(y_test,10)\n",
        "\n",
        "#작은필터를 여러개 쓰는게 더 좋다\n",
        "#필터의 개수를 계속 늘려가라\n",
        "#->vggnet 핵심 개념\n",
        "\n",
        "'''\n",
        "cnn=Sequential()\n",
        "cnn.add(Conv2D(32, (3,3), activation='relu', input_shape=(28,28,1)))\n",
        "cnn.add(Conv2D(64, (3,3), activation='relu'))\n",
        "cnn.add(MaxPooling2D(pool_size=(2,2)))\n",
        "cnn.add(Dropout(0.25))\n",
        "cnn.add(Flatten())\n",
        "cnn.add(Dense(128, activation='relu'))\n",
        "cnn.add(Dropout(0.5))\n",
        "cnn.add(Dense(10, activation='softmax'))\n",
        "'''\n"
      ],
      "metadata": {
        "id": "7iMRaRiQe47A"
      },
      "execution_count": null,
      "outputs": []
    },
    {
      "cell_type": "code",
      "source": [
        "cnn_model= tf.keras.models.load_model('saved_cnn.h5')"
      ],
      "metadata": {
        "id": "y6YelGCbfuwG"
      },
      "execution_count": null,
      "outputs": []
    },
    {
      "cell_type": "code",
      "source": [
        "res_cnn=cnn_model.evaluate(x_test, y_test, verbose=0)\n",
        "print(\"1. cnn model 정확률은\",res_cnn[1]*100)\n",
        "print(' res_cnn=', res_cnn, '\\n')"
      ],
      "metadata": {
        "id": "t5ZrON3df0Uy"
      },
      "execution_count": null,
      "outputs": []
    },
    {
      "cell_type": "code",
      "source": [
        "for curr_layer in cnn_model.layers:\n",
        "  print(curr_layer.trainable, ':==', curr_layer)\n",
        "  curr_layer.trainable=False\n",
        "\n",
        "no_layer= len(cnn_model.layers)\n",
        "cnn_model.layers[no_layer-2].trainable=True\n",
        "cnn_model.layers[no_layer-1].trainable=True\n",
        "\n",
        "print(\"\\nLayers.trainable = \", end=' ')\n",
        "for curr_layer in cnn_model.layers:\n",
        "  print(curr_layer.trainable, end=' ')\n"
      ],
      "metadata": {
        "id": "sVVjKJc6gK4B"
      },
      "execution_count": null,
      "outputs": []
    },
    {
      "cell_type": "code",
      "source": [
        "cnn_model.compile(loss=\"categorical_crossentropy\",\n",
        "                  optimizer=Adam(0.002),\n",
        "                  metrics=[\"accuracy\"])"
      ],
      "metadata": {
        "id": "0suiKXm3gtMJ"
      },
      "execution_count": null,
      "outputs": []
    },
    {
      "cell_type": "code",
      "source": [
        "\n",
        "checkpoint_callback = tf.keras.callbacks.ModelCheckpoint(\n",
        "    'transfer_best_cnn.h5', monitor='val_accuracy', save_best_only=True)\n",
        "\n",
        "hist=cnn_model.fit(x_train, y_train, batch_size=128, epochs=10, validation_data=(x_test, y_test),\n",
        "             callbacks=[checkpoint_callback], verbose=2)"
      ],
      "metadata": {
        "id": "YaAV_cAfg5y7"
      },
      "execution_count": null,
      "outputs": []
    },
    {
      "cell_type": "code",
      "source": [
        "res_transfer_cnn=cnn_model.evaluate(x_test, y_test, verbose=0)\n",
        "print(\"2. transfered learning model 정확률은\", res_transfer_cnn[1]*100)\n",
        "print(' res_cnn= ', res_transfer_cnn, '\\n')"
      ],
      "metadata": {
        "id": "jKNgo5l8hKoE"
      },
      "execution_count": null,
      "outputs": []
    },
    {
      "cell_type": "markdown",
      "source": [],
      "metadata": {
        "id": "ajKtERcrh6Eo"
      }
    },
    {
      "cell_type": "code",
      "source": [
        "cnn_model.compile(loss=\"categorical_crossentropy\",\n",
        "                  optimizer=Adam(),\n",
        "                  metrics=[\"accuracy\"])"
      ],
      "metadata": {
        "id": "NzuWq2r_h7DD"
      },
      "execution_count": null,
      "outputs": []
    },
    {
      "cell_type": "code",
      "source": [
        "\n",
        "hist=cnn_model.fit(x_train, y_train, batch_size=128, epochs=10, validation_data=(x_test, y_test),\n",
        "             callbacks=[checkpoint_callback], verbose=2)\n",
        "\n",
        "cnn.save('saved_cnn.h5')"
      ],
      "metadata": {
        "id": "iYzXxnOpiHPj"
      },
      "execution_count": null,
      "outputs": []
    },
    {
      "cell_type": "code",
      "source": [
        "cnn.summary()"
      ],
      "metadata": {
        "id": "dUMd2YPNiPMD"
      },
      "execution_count": null,
      "outputs": []
    },
    {
      "cell_type": "code",
      "source": [
        "cnn_model=tf.keras.models.load_model('saved_cnn.h5')\n",
        "cnn_model.summary()"
      ],
      "metadata": {
        "id": "ssv0hW4fiSGa"
      },
      "execution_count": null,
      "outputs": []
    },
    {
      "cell_type": "code",
      "source": [
        "cnn_model.pop()\n",
        "cnn_model.pop()\n",
        "cnn_model.pop()\n",
        "cnn_model.summary()"
      ],
      "metadata": {
        "id": "Zxs8nvmniXpN"
      },
      "execution_count": null,
      "outputs": []
    },
    {
      "cell_type": "code",
      "source": [
        "#출력이 5개만을 분류하도록 변경함.\n",
        "cnn_model.add(Dense(645))\n",
        "cnn_model.add(Dense(5, activation='softmax'))\n",
        "cnn_model.summary()"
      ],
      "metadata": {
        "id": "2qW8_YMCicAN"
      },
      "execution_count": null,
      "outputs": []
    },
    {
      "cell_type": "markdown",
      "source": [
        "###Example 3-12:전이학습:새의 품종 분류 (27쪽~)"
      ],
      "metadata": {
        "id": "cHp4w6TFi4qD"
      }
    },
    {
      "cell_type": "code",
      "source": [],
      "metadata": {
        "id": "HY9UnyRRi3Q8"
      },
      "execution_count": null,
      "outputs": []
    },
    {
      "cell_type": "markdown",
      "source": [],
      "metadata": {
        "id": "_a_P8F5Ldi8u"
      }
    },
    {
      "cell_type": "code",
      "source": [
        "코드 주고 출력 맞추기, 코드 메꾸기\n",
        "레이어 중에 학습 안되는 레이어 뭐냐\n",
        "수업 코드들 중요\n",
        "활성함수 보고 회귀 or 분류 등\n",
        "녹음듣\n",
        "\n",
        "범위: 판다스~끝까지\n"
      ],
      "metadata": {
        "id": "CiwmTGjQdjfw"
      },
      "execution_count": null,
      "outputs": []
    }
  ]
}