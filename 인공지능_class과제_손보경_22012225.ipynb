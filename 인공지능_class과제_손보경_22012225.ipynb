{
  "nbformat": 4,
  "nbformat_minor": 0,
  "metadata": {
    "colab": {
      "provenance": []
    },
    "kernelspec": {
      "name": "python3",
      "display_name": "Python 3"
    },
    "language_info": {
      "name": "python"
    }
  },
  "cells": [
    {
      "cell_type": "markdown",
      "source": [
        "###인공지능 class 과제\n",
        "손보경 ( 22012225 )"
      ],
      "metadata": {
        "id": "0jjBzKVHUtCY"
      }
    },
    {
      "cell_type": "code",
      "source": [
        "class CAIGrade:\n",
        "\n",
        "  def __init__(self, name, homework, quiz, exam):\n",
        "    self.__name=name\n",
        "    self.__homework=homework\n",
        "    self.__quiz=quiz\n",
        "    self.__exam=exam\n",
        "    self.__score= self.__ComputeScore()\n",
        "\n",
        "  def __ComputeScore(self):\n",
        "    Score = 0.2*self.__homework + 0.2*self.__quiz + 0.6*self.__exam\n",
        "    return Score\n",
        "\n",
        "  def setScore(self, homework, quiz, exam):\n",
        "    self.__homework=homework\n",
        "    self.__quiz=quiz\n",
        "    self.__exam=exam\n",
        "\n",
        "  def __call__(self):\n",
        "    self.__score= self.__ComputeScore()\n",
        "    print(self.__name, \"-\", self.__homework, \"-\", self.__quiz, \"-\", self.__exam, \"-\", self.__score)\n",
        "\n"
      ],
      "metadata": {
        "id": "GRyO71D7Uv9G"
      },
      "execution_count": null,
      "outputs": []
    },
    {
      "cell_type": "markdown",
      "source": [
        "### 프로그램 실행하기"
      ],
      "metadata": {
        "id": "SiLVBx8ZUwjl"
      }
    },
    {
      "cell_type": "code",
      "source": [
        "grade = CAIGrade(\"Plato K\", 100, 60, 60)\n",
        "grade() #__call__함수 호출\n",
        "CAIGrade.setScore(grade, 100, 60, 80)\n",
        "grade()\n"
      ],
      "metadata": {
        "id": "leHALyL3Uwxx",
        "outputId": "e1bc8d02-e767-4443-f9a0-87a6d9cf2321",
        "colab": {
          "base_uri": "https://localhost:8080/"
        }
      },
      "execution_count": null,
      "outputs": [
        {
          "output_type": "stream",
          "name": "stdout",
          "text": [
            "Plato K - 100 - 60 - 60 - 68.0\n",
            "Plato K - 100 - 60 - 80 - 80.0\n"
          ]
        }
      ]
    }
  ]
}