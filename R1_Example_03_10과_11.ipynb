{
  "cells": [
    {
      "cell_type": "markdown",
      "id": "fd3a76cf",
      "metadata": {
        "id": "fd3a76cf"
      },
      "source": [
        "### Example 3.10: 전이학습\n",
        "\n",
        "- Example 3.9의 모델을 이용해서 추가적인 학습을 시키는 경우"
      ]
    },
    {
      "cell_type": "code",
      "execution_count": null,
      "id": "b6a2edd0",
      "metadata": {
        "id": "b6a2edd0"
      },
      "outputs": [],
      "source": [
        "import numpy as np\n",
        "import tensorflow as tf\n",
        "from tensorflow.keras.datasets import mnist\n",
        "from tensorflow.keras.datasets import fashion_mnist\n",
        "from tensorflow.keras.models import Sequential\n",
        "from tensorflow.keras.layers import Conv2D,MaxPooling2D,Flatten,Dense,Dropout\n",
        "from tensorflow.keras.optimizers import Adam\n",
        "\n",
        "# MNIST 데이터셋을 읽고 신경망에 입력할 형태로 변환\n",
        "(x_train,y_train),(x_test,y_test)=fashion_mnist.load_data()\n",
        "x_train=x_train.reshape(60000,28,28,1)\n",
        "x_test=x_test.reshape(10000,28,28,1)\n",
        "x_train=x_train.astype(np.float32)/255.0\n",
        "x_test=x_test.astype(np.float32)/255.0\n",
        "y_train=tf.keras.utils.to_categorical(y_train,10)\n",
        "y_test=tf.keras.utils.to_categorical(y_test,10)"
      ]
    },
    {
      "cell_type": "code",
      "execution_count": null,
      "id": "7a1d5569",
      "metadata": {
        "id": "7a1d5569",
        "scrolled": true,
        "colab": {
          "base_uri": "https://localhost:8080/",
          "height": 327
        },
        "outputId": "4c0018e1-c386-4e6f-d8b0-010bc1306430"
      },
      "outputs": [
        {
          "output_type": "error",
          "ename": "OSError",
          "evalue": "ignored",
          "traceback": [
            "\u001b[0;31m---------------------------------------------------------------------------\u001b[0m",
            "\u001b[0;31mOSError\u001b[0m                                   Traceback (most recent call last)",
            "\u001b[0;32m<ipython-input-6-a9e3158ea8eb>\u001b[0m in \u001b[0;36m<cell line: 1>\u001b[0;34m()\u001b[0m\n\u001b[0;32m----> 1\u001b[0;31m \u001b[0mcnn_model\u001b[0m \u001b[0;34m=\u001b[0m \u001b[0mtf\u001b[0m\u001b[0;34m.\u001b[0m\u001b[0mkeras\u001b[0m\u001b[0;34m.\u001b[0m\u001b[0mmodels\u001b[0m\u001b[0;34m.\u001b[0m\u001b[0mload_model\u001b[0m\u001b[0;34m(\u001b[0m\u001b[0;34m'saved_cnn.h5'\u001b[0m\u001b[0;34m)\u001b[0m\u001b[0;34m\u001b[0m\u001b[0;34m\u001b[0m\u001b[0m\n\u001b[0m",
            "\u001b[0;32m/usr/local/lib/python3.10/dist-packages/keras/saving/saving_api.py\u001b[0m in \u001b[0;36mload_model\u001b[0;34m(filepath, custom_objects, compile, safe_mode, **kwargs)\u001b[0m\n\u001b[1;32m    210\u001b[0m \u001b[0;34m\u001b[0m\u001b[0m\n\u001b[1;32m    211\u001b[0m     \u001b[0;31m# Legacy case.\u001b[0m\u001b[0;34m\u001b[0m\u001b[0;34m\u001b[0m\u001b[0m\n\u001b[0;32m--> 212\u001b[0;31m     return legacy_sm_saving_lib.load_model(\n\u001b[0m\u001b[1;32m    213\u001b[0m         \u001b[0mfilepath\u001b[0m\u001b[0;34m,\u001b[0m \u001b[0mcustom_objects\u001b[0m\u001b[0;34m=\u001b[0m\u001b[0mcustom_objects\u001b[0m\u001b[0;34m,\u001b[0m \u001b[0mcompile\u001b[0m\u001b[0;34m=\u001b[0m\u001b[0mcompile\u001b[0m\u001b[0;34m,\u001b[0m \u001b[0;34m**\u001b[0m\u001b[0mkwargs\u001b[0m\u001b[0;34m\u001b[0m\u001b[0;34m\u001b[0m\u001b[0m\n\u001b[1;32m    214\u001b[0m     )\n",
            "\u001b[0;32m/usr/local/lib/python3.10/dist-packages/keras/utils/traceback_utils.py\u001b[0m in \u001b[0;36merror_handler\u001b[0;34m(*args, **kwargs)\u001b[0m\n\u001b[1;32m     68\u001b[0m             \u001b[0;31m# To get the full stack trace, call:\u001b[0m\u001b[0;34m\u001b[0m\u001b[0;34m\u001b[0m\u001b[0m\n\u001b[1;32m     69\u001b[0m             \u001b[0;31m# `tf.debugging.disable_traceback_filtering()`\u001b[0m\u001b[0;34m\u001b[0m\u001b[0;34m\u001b[0m\u001b[0m\n\u001b[0;32m---> 70\u001b[0;31m             \u001b[0;32mraise\u001b[0m \u001b[0me\u001b[0m\u001b[0;34m.\u001b[0m\u001b[0mwith_traceback\u001b[0m\u001b[0;34m(\u001b[0m\u001b[0mfiltered_tb\u001b[0m\u001b[0;34m)\u001b[0m \u001b[0;32mfrom\u001b[0m \u001b[0;32mNone\u001b[0m\u001b[0;34m\u001b[0m\u001b[0;34m\u001b[0m\u001b[0m\n\u001b[0m\u001b[1;32m     71\u001b[0m         \u001b[0;32mfinally\u001b[0m\u001b[0;34m:\u001b[0m\u001b[0;34m\u001b[0m\u001b[0;34m\u001b[0m\u001b[0m\n\u001b[1;32m     72\u001b[0m             \u001b[0;32mdel\u001b[0m \u001b[0mfiltered_tb\u001b[0m\u001b[0;34m\u001b[0m\u001b[0;34m\u001b[0m\u001b[0m\n",
            "\u001b[0;32m/usr/local/lib/python3.10/dist-packages/keras/saving/legacy/save.py\u001b[0m in \u001b[0;36mload_model\u001b[0;34m(filepath, custom_objects, compile, options)\u001b[0m\n\u001b[1;32m    228\u001b[0m                     \u001b[0;32mif\u001b[0m \u001b[0misinstance\u001b[0m\u001b[0;34m(\u001b[0m\u001b[0mfilepath_str\u001b[0m\u001b[0;34m,\u001b[0m \u001b[0mstr\u001b[0m\u001b[0;34m)\u001b[0m\u001b[0;34m:\u001b[0m\u001b[0;34m\u001b[0m\u001b[0;34m\u001b[0m\u001b[0m\n\u001b[1;32m    229\u001b[0m                         \u001b[0;32mif\u001b[0m \u001b[0;32mnot\u001b[0m \u001b[0mtf\u001b[0m\u001b[0;34m.\u001b[0m\u001b[0mio\u001b[0m\u001b[0;34m.\u001b[0m\u001b[0mgfile\u001b[0m\u001b[0;34m.\u001b[0m\u001b[0mexists\u001b[0m\u001b[0;34m(\u001b[0m\u001b[0mfilepath_str\u001b[0m\u001b[0;34m)\u001b[0m\u001b[0;34m:\u001b[0m\u001b[0;34m\u001b[0m\u001b[0;34m\u001b[0m\u001b[0m\n\u001b[0;32m--> 230\u001b[0;31m                             raise IOError(\n\u001b[0m\u001b[1;32m    231\u001b[0m                                 \u001b[0;34mf\"No file or directory found at {filepath_str}\"\u001b[0m\u001b[0;34m\u001b[0m\u001b[0;34m\u001b[0m\u001b[0m\n\u001b[1;32m    232\u001b[0m                             )\n",
            "\u001b[0;31mOSError\u001b[0m: No file or directory found at saved_cnn.h5"
          ]
        }
      ],
      "source": [
        "cnn_model = tf.keras.models.load_model('saved_cnn.h5')"
      ]
    },
    {
      "cell_type": "code",
      "execution_count": null,
      "id": "93a12a64",
      "metadata": {
        "id": "93a12a64",
        "outputId": "d8e976ea-b7e0-49f9-c5c8-7c9a14bf5974",
        "scrolled": true,
        "colab": {
          "base_uri": "https://localhost:8080/",
          "height": 211
        }
      },
      "outputs": [
        {
          "output_type": "error",
          "ename": "NameError",
          "evalue": "ignored",
          "traceback": [
            "\u001b[0;31m---------------------------------------------------------------------------\u001b[0m",
            "\u001b[0;31mNameError\u001b[0m                                 Traceback (most recent call last)",
            "\u001b[0;32m<ipython-input-1-d9b2e6ab3bc2>\u001b[0m in \u001b[0;36m<cell line: 1>\u001b[0;34m()\u001b[0m\n\u001b[0;32m----> 1\u001b[0;31m \u001b[0mres_cnn\u001b[0m\u001b[0;34m=\u001b[0m\u001b[0mcnn_model\u001b[0m\u001b[0;34m.\u001b[0m\u001b[0mevaluate\u001b[0m\u001b[0;34m(\u001b[0m\u001b[0mx_test\u001b[0m\u001b[0;34m,\u001b[0m\u001b[0my_test\u001b[0m\u001b[0;34m,\u001b[0m\u001b[0mverbose\u001b[0m\u001b[0;34m=\u001b[0m\u001b[0;36m0\u001b[0m\u001b[0;34m)\u001b[0m\u001b[0;34m\u001b[0m\u001b[0;34m\u001b[0m\u001b[0m\n\u001b[0m\u001b[1;32m      2\u001b[0m \u001b[0mprint\u001b[0m\u001b[0;34m(\u001b[0m\u001b[0;34m\"1. cnn model 정확률은\"\u001b[0m\u001b[0;34m,\u001b[0m\u001b[0mres_cnn\u001b[0m\u001b[0;34m[\u001b[0m\u001b[0;36m1\u001b[0m\u001b[0;34m]\u001b[0m\u001b[0;34m*\u001b[0m\u001b[0;36m100\u001b[0m\u001b[0;34m)\u001b[0m\u001b[0;34m\u001b[0m\u001b[0;34m\u001b[0m\u001b[0m\n\u001b[1;32m      3\u001b[0m \u001b[0mprint\u001b[0m\u001b[0;34m(\u001b[0m\u001b[0;34m'   res_cnn = '\u001b[0m\u001b[0;34m,\u001b[0m \u001b[0mres_cnn\u001b[0m\u001b[0;34m,\u001b[0m\u001b[0;34m)\u001b[0m\u001b[0;34m\u001b[0m\u001b[0;34m\u001b[0m\u001b[0m\n",
            "\u001b[0;31mNameError\u001b[0m: name 'cnn_model' is not defined"
          ]
        }
      ],
      "source": [
        "res_cnn=cnn_model.evaluate(x_test,y_test,verbose=0)\n",
        "print(\"1. cnn model 정확률은\",res_cnn[1]*100)\n",
        "print('   res_cnn = ', res_cnn,)"
      ]
    },
    {
      "cell_type": "code",
      "execution_count": null,
      "id": "56ab9786",
      "metadata": {
        "id": "56ab9786",
        "outputId": "e31adbab-8570-47e6-de8c-8339ba11c97e"
      },
      "outputs": [
        {
          "name": "stdout",
          "output_type": "stream",
          "text": [
            "True :== <tensorflow.python.keras.layers.convolutional.Conv2D object at 0x00000204C86EE640>\n",
            "True :== <tensorflow.python.keras.layers.convolutional.Conv2D object at 0x00000204C431EB20>\n",
            "True :== <tensorflow.python.keras.layers.pooling.MaxPooling2D object at 0x00000204C42F4370>\n",
            "True :== <tensorflow.python.keras.layers.core.Dropout object at 0x00000204C3B50640>\n",
            "True :== <tensorflow.python.keras.layers.core.Flatten object at 0x00000204C3B4E4C0>\n",
            "True :== <tensorflow.python.keras.layers.core.Dense object at 0x00000204C3B47DF0>\n",
            "True :== <tensorflow.python.keras.layers.core.Dropout object at 0x00000204C3B477F0>\n",
            "True :== <tensorflow.python.keras.layers.core.Dense object at 0x00000204C3B3F430>\n",
            "\n",
            "Layers.trainable =  False False False False False True True True "
          ]
        }
      ],
      "source": [
        "for curr_layer in cnn_model.layers:\n",
        "    print(curr_layer.trainable, ':==', curr_layer)\n",
        "    curr_layer.trainable = False\n",
        "\n",
        "no_layer = len(cnn_model.layers)\n",
        "cnn_model.layers[no_layer-3].trainable = True\n",
        "cnn_model.layers[no_layer-2].trainable = True\n",
        "cnn_model.layers[no_layer-1].trainable = True\n",
        "\n",
        "print(\"\\nLayers.trainable = \", end = ' ')\n",
        "for curr_layer in cnn_model.layers:\n",
        "    print(curr_layer.trainable, end = ' ')"
      ]
    },
    {
      "cell_type": "code",
      "execution_count": null,
      "id": "b1d2f7aa",
      "metadata": {
        "id": "b1d2f7aa",
        "outputId": "d377e6c3-54ac-4403-ea9d-1fd2190a42c8"
      },
      "outputs": [
        {
          "name": "stdout",
          "output_type": "stream",
          "text": [
            "Model: \"sequential\"\n",
            "_________________________________________________________________\n",
            "Layer (type)                 Output Shape              Param #   \n",
            "=================================================================\n",
            "conv2d (Conv2D)              (None, 26, 26, 32)        320       \n",
            "_________________________________________________________________\n",
            "conv2d_1 (Conv2D)            (None, 24, 24, 64)        18496     \n",
            "_________________________________________________________________\n",
            "max_pooling2d (MaxPooling2D) (None, 12, 12, 64)        0         \n",
            "_________________________________________________________________\n",
            "dropout (Dropout)            (None, 12, 12, 64)        0         \n",
            "_________________________________________________________________\n",
            "flatten (Flatten)            (None, 9216)              0         \n",
            "_________________________________________________________________\n",
            "dense (Dense)                (None, 128)               1179776   \n",
            "_________________________________________________________________\n",
            "dropout_1 (Dropout)          (None, 128)               0         \n",
            "_________________________________________________________________\n",
            "dense_1 (Dense)              (None, 10)                1290      \n",
            "=================================================================\n",
            "Total params: 1,199,882\n",
            "Trainable params: 1,181,066\n",
            "Non-trainable params: 18,816\n",
            "_________________________________________________________________\n"
          ]
        }
      ],
      "source": [
        "cnn_model.summary()"
      ]
    },
    {
      "cell_type": "code",
      "execution_count": null,
      "id": "38762045",
      "metadata": {
        "id": "38762045"
      },
      "outputs": [],
      "source": [
        "cnn_model.compile(loss=\"categorical_crossentropy\",\n",
        "              optimizer=Adam(0.002),\n",
        "              metrics=[\"accuracy\"])"
      ]
    },
    {
      "cell_type": "code",
      "execution_count": null,
      "id": "1b227dfe",
      "metadata": {
        "id": "1b227dfe",
        "outputId": "03105fbb-75fe-4b06-c720-83a1aeac3695",
        "scrolled": true
      },
      "outputs": [
        {
          "name": "stdout",
          "output_type": "stream",
          "text": [
            "Epoch 1/10\n",
            "469/469 - 3s - loss: 0.1884 - accuracy: 0.9298 - val_loss: 0.2244 - val_accuracy: 0.9226\n",
            "Epoch 2/10\n",
            "469/469 - 2s - loss: 0.1736 - accuracy: 0.9354 - val_loss: 0.2251 - val_accuracy: 0.9238\n",
            "Epoch 3/10\n",
            "469/469 - 2s - loss: 0.1647 - accuracy: 0.9392 - val_loss: 0.2298 - val_accuracy: 0.9225\n",
            "Epoch 4/10\n",
            "469/469 - 2s - loss: 0.1529 - accuracy: 0.9422 - val_loss: 0.2424 - val_accuracy: 0.9244\n",
            "Epoch 5/10\n",
            "469/469 - 2s - loss: 0.1457 - accuracy: 0.9450 - val_loss: 0.2387 - val_accuracy: 0.9261\n",
            "Epoch 6/10\n",
            "469/469 - 2s - loss: 0.1391 - accuracy: 0.9469 - val_loss: 0.2418 - val_accuracy: 0.9246\n",
            "Epoch 7/10\n",
            "469/469 - 2s - loss: 0.1315 - accuracy: 0.9488 - val_loss: 0.2447 - val_accuracy: 0.9258\n",
            "Epoch 8/10\n",
            "469/469 - 2s - loss: 0.1288 - accuracy: 0.9504 - val_loss: 0.2445 - val_accuracy: 0.9245\n",
            "Epoch 9/10\n",
            "469/469 - 2s - loss: 0.1230 - accuracy: 0.9531 - val_loss: 0.2367 - val_accuracy: 0.9298\n",
            "Epoch 10/10\n",
            "469/469 - 2s - loss: 0.1190 - accuracy: 0.9545 - val_loss: 0.2493 - val_accuracy: 0.9246\n"
          ]
        }
      ],
      "source": [
        "checkpoint_cb = tf.keras.callbacks.ModelCheckpoint(\n",
        "    'transfer_best_cnn.h5', monitor = 'val_accuracy', save_best_only=True)\n",
        "\n",
        "hist=cnn_model.fit(x_train,y_train,batch_size=128,epochs=10,\n",
        "             validation_data=(x_test,y_test),\n",
        "             callbacks = [checkpoint_cb], verbose=2)"
      ]
    },
    {
      "cell_type": "code",
      "execution_count": null,
      "id": "f3f63632",
      "metadata": {
        "id": "f3f63632",
        "outputId": "ce27f33e-45d3-4a26-ae95-1447fdb44f1f"
      },
      "outputs": [
        {
          "name": "stdout",
          "output_type": "stream",
          "text": [
            "2. transfered learning model 정확률은 92.46000051498413\n",
            "   res_cnn =  [0.24929852783679962, 0.9246000051498413] \n",
            "\n"
          ]
        }
      ],
      "source": [
        "res_transfer_cnn=cnn_model.evaluate(x_test,y_test,verbose=0)\n",
        "print(\"2. transfered learning model 정확률은\",res_transfer_cnn[1]*100)\n",
        "print('   res_cnn = ', res_transfer_cnn,'\\n')"
      ]
    },
    {
      "cell_type": "markdown",
      "id": "9eb2f833",
      "metadata": {
        "id": "9eb2f833"
      },
      "source": [
        "### Example 3-11: Model의 구조를 변경하기\n",
        "\n",
        "- 원래는 10개의 fashion item이 있음.\n",
        "- 필요에 의해 5개의 fashion item만 인식하는 경우\n",
        "   - 기존에 학습된 것을 이용하고, 5개의 fashion item에 대해 학습하기"
      ]
    },
    {
      "cell_type": "code",
      "execution_count": null,
      "id": "94c4ca7f",
      "metadata": {
        "id": "94c4ca7f",
        "outputId": "4f11cc94-7004-42c6-8c40-a70d3f34d618"
      },
      "outputs": [
        {
          "name": "stdout",
          "output_type": "stream",
          "text": [
            "Model: \"sequential\"\n",
            "_________________________________________________________________\n",
            "Layer (type)                 Output Shape              Param #   \n",
            "=================================================================\n",
            "conv2d (Conv2D)              (None, 26, 26, 32)        320       \n",
            "_________________________________________________________________\n",
            "conv2d_1 (Conv2D)            (None, 24, 24, 64)        18496     \n",
            "_________________________________________________________________\n",
            "max_pooling2d (MaxPooling2D) (None, 12, 12, 64)        0         \n",
            "_________________________________________________________________\n",
            "dropout (Dropout)            (None, 12, 12, 64)        0         \n",
            "_________________________________________________________________\n",
            "flatten (Flatten)            (None, 9216)              0         \n",
            "_________________________________________________________________\n",
            "dense (Dense)                (None, 128)               1179776   \n",
            "_________________________________________________________________\n",
            "dropout_1 (Dropout)          (None, 128)               0         \n",
            "_________________________________________________________________\n",
            "dense_1 (Dense)              (None, 10)                1290      \n",
            "=================================================================\n",
            "Total params: 1,199,882\n",
            "Trainable params: 1,199,882\n",
            "Non-trainable params: 0\n",
            "_________________________________________________________________\n"
          ]
        }
      ],
      "source": [
        "cnn_model = tf.keras.models.load_model('saved_cnn.h5')\n",
        "cnn_model.summary()"
      ]
    },
    {
      "cell_type": "code",
      "execution_count": null,
      "id": "318fc4ea",
      "metadata": {
        "id": "318fc4ea",
        "outputId": "1f940b2d-b9a3-4dba-9273-64837ec99687"
      },
      "outputs": [
        {
          "name": "stdout",
          "output_type": "stream",
          "text": [
            "Model: \"sequential\"\n",
            "_________________________________________________________________\n",
            "Layer (type)                 Output Shape              Param #   \n",
            "=================================================================\n",
            "conv2d (Conv2D)              (None, 26, 26, 32)        320       \n",
            "_________________________________________________________________\n",
            "conv2d_1 (Conv2D)            (None, 24, 24, 64)        18496     \n",
            "_________________________________________________________________\n",
            "max_pooling2d (MaxPooling2D) (None, 12, 12, 64)        0         \n",
            "_________________________________________________________________\n",
            "dropout (Dropout)            (None, 12, 12, 64)        0         \n",
            "_________________________________________________________________\n",
            "flatten (Flatten)            (None, 9216)              0         \n",
            "=================================================================\n",
            "Total params: 18,816\n",
            "Trainable params: 18,816\n",
            "Non-trainable params: 0\n",
            "_________________________________________________________________\n"
          ]
        }
      ],
      "source": [
        "cnn_model.pop()\n",
        "cnn_model.pop()\n",
        "cnn_model.pop()\n",
        "cnn_model.summary()"
      ]
    },
    {
      "cell_type": "code",
      "execution_count": null,
      "id": "156bcb6f",
      "metadata": {
        "id": "156bcb6f",
        "outputId": "ff3e5aee-a228-422c-a42f-28a9c21f2559"
      },
      "outputs": [
        {
          "name": "stdout",
          "output_type": "stream",
          "text": [
            "Model: \"sequential\"\n",
            "_________________________________________________________________\n",
            "Layer (type)                 Output Shape              Param #   \n",
            "=================================================================\n",
            "conv2d (Conv2D)              (None, 26, 26, 32)        320       \n",
            "_________________________________________________________________\n",
            "conv2d_1 (Conv2D)            (None, 24, 24, 64)        18496     \n",
            "_________________________________________________________________\n",
            "max_pooling2d (MaxPooling2D) (None, 12, 12, 64)        0         \n",
            "_________________________________________________________________\n",
            "dropout (Dropout)            (None, 12, 12, 64)        0         \n",
            "_________________________________________________________________\n",
            "flatten (Flatten)            (None, 9216)              0         \n",
            "_________________________________________________________________\n",
            "dense_1 (Dense)              (None, 64)                589888    \n",
            "_________________________________________________________________\n",
            "dropout_1 (Dropout)          (None, 64)                0         \n",
            "_________________________________________________________________\n",
            "dense_2 (Dense)              (None, 5)                 325       \n",
            "=================================================================\n",
            "Total params: 609,029\n",
            "Trainable params: 609,029\n",
            "Non-trainable params: 0\n",
            "_________________________________________________________________\n"
          ]
        }
      ],
      "source": [
        "cnn_model.add(Dense(64,activation='relu'))\n",
        "cnn_model.add(Dropout(0.5))\n",
        "cnn_model.add(Dense(5,activation='softmax'))\n",
        "cnn_model.summary()"
      ]
    }
  ],
  "metadata": {
    "colab": {
      "provenance": []
    },
    "kernelspec": {
      "display_name": "Python 3",
      "language": "python",
      "name": "python3"
    },
    "language_info": {
      "codemirror_mode": {
        "name": "ipython",
        "version": 3
      },
      "file_extension": ".py",
      "mimetype": "text/x-python",
      "name": "python",
      "nbconvert_exporter": "python",
      "pygments_lexer": "ipython3",
      "version": "3.8.8"
    }
  },
  "nbformat": 4,
  "nbformat_minor": 5
}